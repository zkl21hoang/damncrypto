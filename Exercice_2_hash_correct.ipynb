{
 "cells": [
  {
   "cell_type": "markdown",
   "metadata": {},
   "source": [
    "# Exercice 2: The birthday paradox and statistics\n",
    "\n",
    "\n",
    "## Q1: Cryptographic hash functions\n",
    "A cryptographic hash function is a function $F: \\{0, 1\\}^m \\rightarrow \\{0,1\\}^n$ satisfying the following properties:\n",
    "\n",
    "1. It is easy to compute $F(x)$ for all $x \\in \\{0, 1\\}^m$. \n",
    "2. Given a $y \\in \\{0, 1\\}^n$, it is hard to find an $x \\in \\{0, 1\\}^m$ such that $F(x) = y$.\n",
    "3. It is hard to find two elements $x_1 \\neq x_2$ that have the same image: $F(x_1) = F(x_2)$. \n",
    "\n",
    "Usually the domain size is greater than the range (i.e. $m > n$). Therefore it must be possible to solve problems 2 or 3 by brute force. In this exercise we will consider the following hash function:"
   ]
  },
  {
   "cell_type": "code",
   "execution_count": 3,
   "metadata": {},
   "outputs": [],
   "source": [
    "import random\n",
    "import hashlib\n",
    "def h(s, l=None):\n",
    "    \"\"\"Compute SHA256 hash value of x for a given output length l\n",
    "    s: string\n",
    "    l: non zero positive integer\n",
    "    \"\"\"\n",
    "    a = hashlib.sha256(str(s).encode())\n",
    "    b = a.hexdigest()\n",
    "    if l:\n",
    "        b = b[0:l]\n",
    "    return b"
   ]
  },
  {
   "cell_type": "markdown",
   "metadata": {},
   "source": [
    "The function defined above takes two integers $x$ and $l$ and returns a character string of length $l$. The output is the *image* and $x$ is referred to as the *preimage*.\n",
    "\n",
    "\n",
    "(a) Use the hash function to compute the hash values of the strings 'bonjour' and 'bonjour1'. Are there any similarities between the two results?\n",
    "\n",
    "Note that the function can also be applied to integers. Example: ```h(1234, 4)```.\n",
    "\n",
    "(b) Generate random integers (or strings) and find an input whose image under $h(x, 4)$ is \"abcd\". How many times does $h(x, 4)$ need to be evaluated before finding the preimage? Complete the function ```preimageof``` below.\n"
   ]
  },
  {
   "cell_type": "code",
   "execution_count": null,
   "metadata": {},
   "outputs": [],
   "source": [
    "print(h(\"bonjour\"))\n",
    "print(h(\"bonjOur\"))\n",
    "print(h(1234, 4))"
   ]
  },
  {
   "cell_type": "code",
   "execution_count": null,
   "metadata": {},
   "outputs": [],
   "source": [
    "def preimageof(s, l):\n",
    "    \"\"\" Find the preimage of string s under the function h. \n",
    "    \"\"\"\n",
    "    r = random.randrange(10000000)\n",
    "    i = 1\n",
    "    while h(r,l) != s:\n",
    "        r = random.randrange(10000000)\n",
    "        i += 1\n",
    "    print(str(i) + \" calls to h\")\n",
    "    return r\n",
    "\n",
    "# the following should return 'True':\n",
    "x = preimageof('abcd', 4)\n",
    "print(h(x,4) == 'abcd')"
   ]
  },
  {
   "cell_type": "markdown",
   "metadata": {},
   "source": [
    "(c) Find two integers with the same image. How many times has $h(x, 4)$ been computed? Complete the function ```findcollision```."
   ]
  },
  {
   "cell_type": "code",
   "execution_count": null,
   "metadata": {},
   "outputs": [],
   "source": [
    "def findcollision(length):\n",
    "    \"\"\"\n",
    "    Find a collision of outputs of given length from the function h by \n",
    "    computing the function values for random inputs\n",
    "    length: non zero positive integer\n",
    "    \"\"\"\n",
    "    i = 1\n",
    "    d = {}\n",
    "    x = random.randrange(1000000)\n",
    "    r = h(x, length)\n",
    "    \n",
    "    while r not in d or d[r] == x:\n",
    "        d[r] = x\n",
    "        x = random.randrange(1000000)\n",
    "        r = h(x, length)\n",
    "        i += 1\n",
    "    x1, x2 = d[r], x\n",
    "\n",
    "    print(str(i) + \" calls to h\")\n",
    "    return [x1, x2]\n",
    "\n",
    "length = 6\n",
    "[x1, x2] = findcollision(length)\n",
    "print('préimage:', x1, x2)\n",
    "y1 = h(x1, length)\n",
    "y2 = h(x2, length)\n",
    "print('images:', y1, y2)\n",
    "print(x1 != x2 and y1 == y2)"
   ]
  },
  {
   "cell_type": "markdown",
   "metadata": {},
   "source": [
    "(d) Find preimages of \"a\", \"ab\", \"abc\" and \"abcde\" for $h(x, 1), h(x, 2), h(x, 3)$ and $h(x, 5)$ respectively. List the number of computations (of the hash function). "
   ]
  },
  {
   "cell_type": "code",
   "execution_count": null,
   "metadata": {},
   "outputs": [],
   "source": [
    "print('preimageof(\"a\", 1)')\n",
    "preimageof(\"a\", 1)\n",
    "print('preimageof(\"ab\", 2)')\n",
    "preimageof(\"ab\", 2)\n",
    "print('preimageof(\"abc\", 3)')\n",
    "preimageof(\"abc\", 3)\n",
    "print('preimageof(\"abcde\", 5)')\n",
    "preimageof(\"abcde\", 5)\n",
    "None"
   ]
  },
  {
   "cell_type": "markdown",
   "metadata": {},
   "source": [
    "(e) Find pairs of integers that have the same image under $h(x, 1)$. Same question for $h(x, 2), h(x, 3)$ and $h(x, 5)$ respectively. Compare the number of computations with the results from question (d) and explain the observed differences. \n"
   ]
  },
  {
   "cell_type": "code",
   "execution_count": null,
   "metadata": {},
   "outputs": [],
   "source": [
    "print(\"findcollision(1)\")\n",
    "findcollision(1)\n",
    "print(\"findcollision(2)\")\n",
    "findcollision(2)\n",
    "print(\"findcollision(3)\")\n",
    "findcollision(3)\n",
    "print(\"findcollision(5)\")\n",
    "findcollision(5)\n",
    "None"
   ]
  },
  {
   "cell_type": "markdown",
   "metadata": {},
   "source": [
    "It is harder to find a preimage than finding a collision, because when we try to find a preimage we can only test against one value but when we try to find a collision we can test against all the other images we have already calculated."
   ]
  },
  {
   "cell_type": "markdown",
   "metadata": {},
   "source": [
    "## Q2: Merkle key establishment based on the birthday paradox\n",
    "\n",
    "A key exchange protocol allows two persons (Alice and Bob) to share a piece of secret information ('the key'). We assume that a third person (Eve) intercepts all communication between Alice and Bob. Key exchange protocols are designed in such a way that Alice and Bob can compute the key in an easy way, while it is significantly harder for Eve to find the key.\n",
    "\n",
    "Let $h: \\{1, ..., n^2\\} \\rightarrow R$ be a (publicly known) hash function where $R$ is some range of size greater than $n^2$. To create a shared key, Alice and Bob perform the following steps.\n",
    "\n",
    "1. Alice samples $n$ random elements $x_1, ..., x_n$ from the set $\\{1, ..., n^2\\}$.\n",
    "2. Alice computes the images $y_1 = h(x_1), ..., y_n = h(x_n)$ using the hash function. She sends this list of images to Bob.\n",
    "3. Bob computes the hash function on random inputs from the set $\\{1, ..., n^2\\}$ until he finds **one of the $n$ values** in the list $y_1, ..., y_n$. He returns to Alice the image $y_i$ corresponding to the preimage $x_i$ that he found. \n",
    "4. Alice looks up in her list $x_1, ..., x_n$ the preimage corresponding to $y_i$. Now Alice and Bob share the secret value $x_i$. \n",
    "\n",
    "(a) How many computations (of the hash function) do Alice and Bob perform on average during the protocol?\n"
   ]
  },
  {
   "cell_type": "markdown",
   "metadata": {},
   "source": [
    "Alice and Bob perform n computations on average\n"
   ]
  },
  {
   "cell_type": "markdown",
   "metadata": {},
   "source": [
    "(b) How can Eve find the key $x_i$ and how many times on average will she have to compute the hash function?\n",
    "\n",
    "Eve will have to perform n² computations on average.\n",
    "\n",
    "\n",
    "In this exercise, we will use the hash function ```h(x, 40)``` from Q1. \n",
    "\n",
    "(c) Implement functions simulating Alice, Bob and Eve. Compare the number of computations performed by Bob and Eve for $n = 100$. \n"
   ]
  },
  {
   "cell_type": "code",
   "execution_count": 7,
   "metadata": {},
   "outputs": [],
   "source": [
    "# use the function h(x,40)\n",
    "l = 40\n",
    "n = 5000\n",
    "\n",
    "# complete and execute these 3 functions:\n",
    "\n",
    "def alice(n):\n",
    "    X = [random.randrange(n*n) for i in range(n)]\n",
    "    Y = [h(x, l) for x in X]\n",
    "    print(str(n) + \" calls to h\")\n",
    "    return [X, Y]\n",
    "\n",
    "def bob(Y, n):\n",
    "    preimage = random.randrange(n*n)\n",
    "    image = h(preimage, l) \n",
    "    i = 1\n",
    "    while image not in Y:\n",
    "        i += 1\n",
    "        preimage = random.randrange(n*n)\n",
    "        image = h(preimage, l) \n",
    "    print(str(i) + \" calls to h\")\n",
    "    print(preimage, image)\n",
    "    return [preimage, image]\n",
    "\n",
    "def eve(image, n):\n",
    "    preimage = random.randrange(n*n)\n",
    "    i = 1\n",
    "    while h(preimage, l) != image:\n",
    "        preimage = random.randrange(n*n)\n",
    "        i += 1\n",
    "    print(str(i) + \" calls to h\")\n",
    "    return h(preimage, l)\n"
   ]
  },
  {
   "cell_type": "code",
   "execution_count": 8,
   "metadata": {},
   "outputs": [
    {
     "name": "stdout",
     "output_type": "stream",
     "text": [
      "alice:\n",
      "5000 calls to h\n",
      "bob:\n",
      "1421 calls to h\n",
      "14184948 4d5aaf84249b38c1ea7bc77cca9065db800fc121\n",
      "eve:\n",
      "4771944 calls to h\n"
     ]
    }
   ],
   "source": [
    "print(\"alice:\")\n",
    "a = alice(n)\n",
    "print(\"bob:\")\n",
    "b = bob(a[1], n)\n",
    "print(\"eve:\")\n",
    "e = eve(b[1], n)"
   ]
  },
  {
   "cell_type": "markdown",
   "metadata": {},
   "source": [
    "(d) Find a value for the parameter $n$ for which the key exchange is 'safe', that is: Eve does not succeed within 1 minute, while Bob is able to perform all of his computations within a second.  \n"
   ]
  },
  {
   "cell_type": "markdown",
   "metadata": {},
   "source": [
    "A good value for n could be 5000.\n",
    "\n",
    "Example output for n = 5000:\n",
    "\n",
    "    alice:\n",
    "    5000 calls to h\n",
    "    bob:\n",
    "    2505 calls to h\n",
    "    eve:\n",
    "    53233588 calls to h"
   ]
  },
  {
   "cell_type": "markdown",
   "metadata": {},
   "source": [
    "## Q3: Correlations\n",
    "\n",
    "The total number of students present in the science faculty building at any given hour of the day can be modeled as a sum of two normal distributions:"
   ]
  },
  {
   "cell_type": "code",
   "execution_count": 1,
   "metadata": {},
   "outputs": [
    {
     "name": "stdout",
     "output_type": "stream",
     "text": [
      "[0, 0, 0, 0, 0, 2, 15, 74, 167, 262, 236, 190, 125, 189, 256, 241, 162, 62, 16, 1, 1, 1, 0, 0]\n"
     ]
    }
   ],
   "source": [
    "import numpy as np\n",
    "L = []\n",
    "students = list()\n",
    "for i in range(1000):\n",
    "    L.append(int(np.random.normal(10, 1.5)))\n",
    "    L.append(int(np.random.normal(15, 1.5)))\n",
    "for time in range(24):\n",
    "    students.append(L.count(time))\n",
    "    \n",
    "print(students)"
   ]
  },
  {
   "cell_type": "markdown",
   "metadata": {},
   "source": [
    "The distributions are centered around 10 AM and 3 PM and have a standard deviation of $1.5$. The amount of coffee consumed at any given hour can also be modeled as a sum of two normal distributions. These two distributions are centered around $10h30$ AM and $4$ PM and both have a standard deviation of $0.3$.\n",
    "\n"
   ]
  },
  {
   "cell_type": "code",
   "execution_count": 2,
   "metadata": {},
   "outputs": [
    {
     "name": "stdout",
     "output_type": "stream",
     "text": [
      "[0, 0, 0, 0, 0, 0, 0, 0, 0, 8, 178, 14, 0, 0, 0, 94, 106, 0, 0, 0, 0, 0, 0, 0]\n"
     ]
    }
   ],
   "source": [
    "import matplotlib.pyplot as plt\n",
    "L = list()\n",
    "coffee = list()\n",
    "for i in range(200):\n",
    "    L.append(int(np.random.normal(10.5, .3)))\n",
    "    L.append(int(np.random.normal(16, .3)))\n",
    "for time in range(24):\n",
    "    coffee.append(L.count(time))\n",
    "    \n",
    "print(coffee)\n"
   ]
  },
  {
   "cell_type": "code",
   "execution_count": 3,
   "metadata": {},
   "outputs": [
    {
     "name": "stdout",
     "output_type": "stream",
     "text": [
      "[0.0, 0.0, 0.0, 0.0, 0.0, 0.0, 0.0, 1, 1, 1, 1, 1, 1, 1, 1, 1, 1, 1, 1, 0.0, 0.0, 0.0, 0.0, 0.0]\n"
     ]
    }
   ],
   "source": [
    "daylight = list(np.zeros(24))\n",
    "for i in range(12):\n",
    "    daylight[i+7] = 1\n",
    "print(daylight)"
   ]
  },
  {
   "cell_type": "markdown",
   "metadata": {},
   "source": [
    "(a) Make a plot of the number of students at any given hour. In the same graph, plot the amount of coffee consumed. Is there a relation between the two data? "
   ]
  },
  {
   "cell_type": "code",
   "execution_count": 4,
   "metadata": {},
   "outputs": [
    {
     "data": {
      "image/png": "[encoded data removed]",
      "text/plain": [
       "<Figure size 640x480 with 1 Axes>"
      ]
     },
     "metadata": {},
     "output_type": "display_data"
    }
   ],
   "source": [
    "plt.plot(students)\n",
    "plt.plot(coffee)\n",
    "plt.plot([d * 200 for d in daylight])\n",
    "plt.legend([\"students\", \"coffee\", \"daylight\"])\n",
    "plt.show\n",
    "None"
   ]
  },
  {
   "cell_type": "markdown",
   "metadata": {},
   "source": [
    "Looking at this plot, it seems that there is a relation between the two data."
   ]
  },
  {
   "cell_type": "markdown",
   "metadata": {},
   "source": [
    "\n",
    "(b) Make a scatter plot with on the y-axis the amount of coffee consumed and on the x-axis the number of students. Are the points aligned? Use numpy to compute the corrolation coefficient."
   ]
  },
  {
   "cell_type": "code",
   "execution_count": 5,
   "metadata": {
    "scrolled": true
   },
   "outputs": [
    {
     "data": {
      "image/png": "[encoded data removed]",
      "text/plain": [
       "<Figure size 640x480 with 1 Axes>"
      ]
     },
     "metadata": {},
     "output_type": "display_data"
    },
    {
     "name": "stdout",
     "output_type": "stream",
     "text": [
      "Correlation coefficient: 0.518455502444685\n"
     ]
    }
   ],
   "source": [
    "plt.scatter(students, coffee)\n",
    "plt.xlabel(\"students\")\n",
    "plt.ylabel(\"coffee\")\n",
    "plt.show()\n",
    "print(\"Correlation coefficient: \" + str(np.corrcoef(students, coffee)[1, 0]))"
   ]
  },
  {
   "cell_type": "markdown",
   "metadata": {},
   "source": [
    "The points are not aligned and the correlation coefficient is far from one. In the end, there might be no relation between the two data."
   ]
  },
  {
   "cell_type": "markdown",
   "metadata": {},
   "source": [
    "Consider the list:"
   ]
  },
  {
   "cell_type": "code",
   "execution_count": null,
   "metadata": {},
   "outputs": [],
   "source": [
    "daylight = list(np.zeros(24))\n",
    "for i in range(12):\n",
    "    daylight[i+7] = 1\n",
    "print(daylight)"
   ]
  },
  {
   "cell_type": "markdown",
   "metadata": {},
   "source": [
    "The i-th position of the list is non zero if and only if we can see clear daylight on the i-th hour of the day. \n",
    "\n",
    "(c) In the graph of (a), add a plot of the list representing the daylight. Does there seem to be a relation between the number of students and the daylight?\n",
    "\n",
    "(d) Make a scatter plot of the two data. Are the points aligned? \n"
   ]
  },
  {
   "cell_type": "code",
   "execution_count": 6,
   "metadata": {},
   "outputs": [
    {
     "data": {
      "image/png": "[encoded data removed]",
      "text/plain": [
       "<Figure size 640x480 with 1 Axes>"
      ]
     },
     "metadata": {},
     "output_type": "display_data"
    },
    {
     "name": "stdout",
     "output_type": "stream",
     "text": [
      "Correlation coefficient: 0.8294179148781399\n"
     ]
    }
   ],
   "source": [
    "plt.scatter(students, daylight)\n",
    "plt.xlabel(\"students\")\n",
    "plt.ylabel(\"daylight\")\n",
    "plt.show()\n",
    "print(\"Correlation coefficient: \" + str(np.corrcoef(students, daylight)[1, 0]))"
   ]
  },
  {
   "cell_type": "markdown",
   "metadata": {},
   "source": [
    "There seems to be a relation between the number of students and daylight because most of the points are aligned when there is daylight."
   ]
  },
  {
   "cell_type": "markdown",
   "metadata": {},
   "source": [
    "The average amount of rain at any given hour follows a uniform distribution:"
   ]
  },
  {
   "cell_type": "code",
   "execution_count": 7,
   "metadata": {},
   "outputs": [
    {
     "name": "stdout",
     "output_type": "stream",
     "text": [
      "[42, 32, 37, 45, 36, 50, 41, 38, 46, 37, 35, 41, 45, 41, 43, 42, 51, 39, 45, 49, 50, 50, 35, 30]\n"
     ]
    }
   ],
   "source": [
    "L = list()\n",
    "rain =  list(np.zeros(24))\n",
    "for i in range(1000):\n",
    "    L.append(int(np.random.uniform(0, 24)))\n",
    "for time in range(24):\n",
    "    rain[time] = L.count(time)\n",
    "    \n",
    "print(rain)"
   ]
  },
  {
   "cell_type": "markdown",
   "metadata": {},
   "source": [
    "\n",
    "(f) Using scatter plots and correlation coefficients, find out if there is a relation between the number of students in the building and the average amount of rain at any given hour."
   ]
  },
  {
   "cell_type": "code",
   "execution_count": 8,
   "metadata": {},
   "outputs": [
    {
     "data": {
      "image/png": "[encoded data removed]",
      "text/plain": [
       "<Figure size 640x480 with 1 Axes>"
      ]
     },
     "metadata": {},
     "output_type": "display_data"
    },
    {
     "name": "stdout",
     "output_type": "stream",
     "text": [
      "Correlation coefficient: -0.02370734295054064\n"
     ]
    }
   ],
   "source": [
    "plt.scatter(students, rain)\n",
    "plt.xlabel(\"students\")\n",
    "plt.ylabel(\"rain\")\n",
    "plt.show()\n",
    "print(\"Correlation coefficient: \" + str(np.corrcoef(students, rain)[1, 0]))"
   ]
  },
  {
   "cell_type": "markdown",
   "metadata": {},
   "source": [
    "There is absolutely no relation between the number of students in the building and the average amount of rain."
   ]
  },
  {
   "cell_type": "code",
   "execution_count": null,
   "metadata": {},
   "outputs": [],
   "source": []
  }
 ],
 "metadata": {
  "kernelspec": {
   "display_name": "Python 3 (ipykernel)",
   "language": "python",
   "name": "python3"
  },
  "language_info": {
   "codemirror_mode": {
    "name": "ipython",
    "version": 3
   },
   "file_extension": ".py",
   "mimetype": "text/x-python",
   "name": "python",
   "nbconvert_exporter": "python",
   "pygments_lexer": "ipython3",
   "version": "3.11.5"
  }
 },
 "nbformat": 4,
 "nbformat_minor": 4
}
